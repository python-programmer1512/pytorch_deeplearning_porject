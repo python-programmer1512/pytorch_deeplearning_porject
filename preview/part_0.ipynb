{
 "cells": [
  {
   "attachments": {},
   "cell_type": "markdown",
   "metadata": {},
   "source": [
    "# 미리보기 & 이미지 인식하기"
   ]
  },
  {
   "attachments": {},
   "cell_type": "markdown",
   "metadata": {},
   "source": [
    "## 추가 파일 설치"
   ]
  },
  {
   "cell_type": "code",
   "execution_count": 1,
   "metadata": {},
   "outputs": [
    {
     "data": {
      "text/plain": [
       "'\\n!sudo apt-get install -y fonts-nanum* | tail -n 1\\n!sudo fc-cache -fv\\n!rm -rf ~/.cache/matplotlib\\n'"
      ]
     },
     "execution_count": 1,
     "metadata": {},
     "output_type": "execute_result"
    }
   ],
   "source": [
    "# matplotlib 한글 폰트 깨짐 방지\n",
    "\"\"\"\n",
    "!sudo apt-get install -y fonts-nanum* | tail -n 1\n",
    "!sudo fc-cache -fv\n",
    "!rm -rf ~/.cache/matplotlib\n",
    "\"\"\"\n"
   ]
  },
  {
   "attachments": {},
   "cell_type": "markdown",
   "metadata": {},
   "source": [
    "## 라이브러리 불러오기"
   ]
  },
  {
   "cell_type": "code",
   "execution_count": 2,
   "metadata": {},
   "outputs": [
    {
     "name": "stdout",
     "output_type": "stream",
     "text": [
      "Requirement already satisfied: torchviz in c:\\users\\white\\appdata\\local\\programs\\python\\python37\\lib\\site-packages (0.0.2)\n",
      "Requirement already satisfied: graphviz in c:\\users\\white\\appdata\\local\\programs\\python\\python37\\lib\\site-packages (from torchviz) (0.20.1)\n",
      "Requirement already satisfied: torch in c:\\users\\white\\appdata\\local\\programs\\python\\python37\\lib\\site-packages (from torchviz) (1.13.1+cu117)\n",
      "Requirement already satisfied: typing-extensions in c:\\users\\white\\appdata\\local\\programs\\python\\python37\\lib\\site-packages (from torch->torchviz) (4.4.0)\n"
     ]
    },
    {
     "name": "stderr",
     "output_type": "stream",
     "text": [
      "'apt'��(��) ���� �Ǵ� �ܺ� ����, ������ �� �ִ� ���α׷�, �Ǵ�\n",
      "��ġ ������ �ƴմϴ�.\n"
     ]
    },
    {
     "name": "stdout",
     "output_type": "stream",
     "text": [
      "Requirement already satisfied: jupyter_contrib_nbextensions in c:\\users\\white\\appdata\\local\\programs\\python\\python37\\lib\\site-packages (0.7.0)\n",
      "Requirement already satisfied: jupyter-contrib-core>=0.3.3 in c:\\users\\white\\appdata\\local\\programs\\python\\python37\\lib\\site-packages (from jupyter_contrib_nbextensions) (0.4.2)\n",
      "Requirement already satisfied: traitlets>=4.1 in c:\\users\\white\\appdata\\roaming\\python\\python37\\site-packages (from jupyter_contrib_nbextensions) (5.8.1)\n",
      "Requirement already satisfied: jupyter-highlight-selected-word>=0.1.1 in c:\\users\\white\\appdata\\local\\programs\\python\\python37\\lib\\site-packages (from jupyter_contrib_nbextensions) (0.2.0)\n",
      "Requirement already satisfied: tornado in c:\\users\\white\\appdata\\roaming\\python\\python37\\site-packages (from jupyter_contrib_nbextensions) (6.2)\n",
      "Requirement already satisfied: ipython-genutils in c:\\users\\white\\appdata\\local\\programs\\python\\python37\\lib\\site-packages (from jupyter_contrib_nbextensions) (0.2.0)\n",
      "Requirement already satisfied: jupyter-core in c:\\users\\white\\appdata\\roaming\\python\\python37\\site-packages (from jupyter_contrib_nbextensions) (4.12.0)\n",
      "Requirement already satisfied: nbconvert>=6.0 in c:\\users\\white\\appdata\\local\\programs\\python\\python37\\lib\\site-packages (from jupyter_contrib_nbextensions) (7.2.9)\n",
      "Requirement already satisfied: notebook>=6.0 in c:\\users\\white\\appdata\\local\\programs\\python\\python37\\lib\\site-packages (from jupyter_contrib_nbextensions) (6.5.2)\n",
      "Requirement already satisfied: lxml in c:\\users\\white\\appdata\\local\\programs\\python\\python37\\lib\\site-packages (from jupyter_contrib_nbextensions) (4.9.2)\n",
      "Requirement already satisfied: jupyter-nbextensions-configurator>=0.4.0 in c:\\users\\white\\appdata\\local\\programs\\python\\python37\\lib\\site-packages (from jupyter_contrib_nbextensions) (0.6.1)\n",
      "Requirement already satisfied: setuptools in c:\\users\\white\\appdata\\local\\programs\\python\\python37\\lib\\site-packages (from jupyter-contrib-core>=0.3.3->jupyter_contrib_nbextensions) (41.2.0)\n",
      "Requirement already satisfied: pyyaml in c:\\users\\white\\appdata\\local\\programs\\python\\python37\\lib\\site-packages (from jupyter-nbextensions-configurator>=0.4.0->jupyter_contrib_nbextensions) (6.0)\n",
      "Requirement already satisfied: beautifulsoup4 in c:\\users\\white\\appdata\\local\\programs\\python\\python37\\lib\\site-packages (from nbconvert>=6.0->jupyter_contrib_nbextensions) (4.11.2)\n",
      "Requirement already satisfied: nbformat>=5.1 in c:\\users\\white\\appdata\\local\\programs\\python\\python37\\lib\\site-packages (from nbconvert>=6.0->jupyter_contrib_nbextensions) (5.7.3)\n",
      "Requirement already satisfied: markupsafe>=2.0 in c:\\users\\white\\appdata\\local\\programs\\python\\python37\\lib\\site-packages (from nbconvert>=6.0->jupyter_contrib_nbextensions) (2.1.1)\n",
      "Requirement already satisfied: jinja2>=3.0 in c:\\users\\white\\appdata\\local\\programs\\python\\python37\\lib\\site-packages (from nbconvert>=6.0->jupyter_contrib_nbextensions) (3.1.2)\n",
      "Requirement already satisfied: packaging in c:\\users\\white\\appdata\\local\\programs\\python\\python37\\lib\\site-packages (from nbconvert>=6.0->jupyter_contrib_nbextensions) (23.0)\n",
      "Requirement already satisfied: nbclient>=0.5.0 in c:\\users\\white\\appdata\\local\\programs\\python\\python37\\lib\\site-packages (from nbconvert>=6.0->jupyter_contrib_nbextensions) (0.7.2)\n",
      "Requirement already satisfied: pandocfilters>=1.4.1 in c:\\users\\white\\appdata\\local\\programs\\python\\python37\\lib\\site-packages (from nbconvert>=6.0->jupyter_contrib_nbextensions) (1.5.0)\n",
      "Requirement already satisfied: tinycss2 in c:\\users\\white\\appdata\\local\\programs\\python\\python37\\lib\\site-packages (from nbconvert>=6.0->jupyter_contrib_nbextensions) (1.2.1)\n",
      "Requirement already satisfied: importlib-metadata>=3.6 in c:\\users\\white\\appdata\\local\\programs\\python\\python37\\lib\\site-packages (from nbconvert>=6.0->jupyter_contrib_nbextensions) (6.0.0)\n",
      "Requirement already satisfied: mistune<3,>=2.0.3 in c:\\users\\white\\appdata\\local\\programs\\python\\python37\\lib\\site-packages (from nbconvert>=6.0->jupyter_contrib_nbextensions) (2.0.5)\n",
      "Requirement already satisfied: bleach in c:\\users\\white\\appdata\\local\\programs\\python\\python37\\lib\\site-packages (from nbconvert>=6.0->jupyter_contrib_nbextensions) (6.0.0)\n",
      "Requirement already satisfied: jupyterlab-pygments in c:\\users\\white\\appdata\\local\\programs\\python\\python37\\lib\\site-packages (from nbconvert>=6.0->jupyter_contrib_nbextensions) (0.2.2)\n",
      "Requirement already satisfied: pygments>=2.4.1 in c:\\users\\white\\appdata\\roaming\\python\\python37\\site-packages (from nbconvert>=6.0->jupyter_contrib_nbextensions) (2.14.0)\n",
      "Requirement already satisfied: defusedxml in c:\\users\\white\\appdata\\local\\programs\\python\\python37\\lib\\site-packages (from nbconvert>=6.0->jupyter_contrib_nbextensions) (0.7.1)\n",
      "Requirement already satisfied: pywin32>=1.0 in c:\\users\\white\\appdata\\roaming\\python\\python37\\site-packages (from jupyter-core->jupyter_contrib_nbextensions) (305)\n",
      "Requirement already satisfied: Send2Trash>=1.8.0 in c:\\users\\white\\appdata\\local\\programs\\python\\python37\\lib\\site-packages (from notebook>=6.0->jupyter_contrib_nbextensions) (1.8.0)\n",
      "Requirement already satisfied: jupyter-client>=5.3.4 in c:\\users\\white\\appdata\\roaming\\python\\python37\\site-packages (from notebook>=6.0->jupyter_contrib_nbextensions) (7.4.8)\n",
      "Requirement already satisfied: terminado>=0.8.3 in c:\\users\\white\\appdata\\local\\programs\\python\\python37\\lib\\site-packages (from notebook>=6.0->jupyter_contrib_nbextensions) (0.17.1)\n",
      "Requirement already satisfied: nest-asyncio>=1.5 in c:\\users\\white\\appdata\\roaming\\python\\python37\\site-packages (from notebook>=6.0->jupyter_contrib_nbextensions) (1.5.6)\n",
      "Requirement already satisfied: prometheus-client in c:\\users\\white\\appdata\\local\\programs\\python\\python37\\lib\\site-packages (from notebook>=6.0->jupyter_contrib_nbextensions) (0.16.0)\n",
      "Requirement already satisfied: nbclassic>=0.4.7 in c:\\users\\white\\appdata\\local\\programs\\python\\python37\\lib\\site-packages (from notebook>=6.0->jupyter_contrib_nbextensions) (0.5.2)\n",
      "Requirement already satisfied: argon2-cffi in c:\\users\\white\\appdata\\local\\programs\\python\\python37\\lib\\site-packages (from notebook>=6.0->jupyter_contrib_nbextensions) (21.3.0)\n",
      "Requirement already satisfied: pyzmq>=17 in c:\\users\\white\\appdata\\roaming\\python\\python37\\site-packages (from notebook>=6.0->jupyter_contrib_nbextensions) (24.0.1)\n",
      "Requirement already satisfied: ipykernel in c:\\users\\white\\appdata\\roaming\\python\\python37\\site-packages (from notebook>=6.0->jupyter_contrib_nbextensions) (6.16.2)\n",
      "Requirement already satisfied: typing-extensions>=3.6.4 in c:\\users\\white\\appdata\\local\\programs\\python\\python37\\lib\\site-packages (from importlib-metadata>=3.6->nbconvert>=6.0->jupyter_contrib_nbextensions) (4.4.0)\n",
      "Requirement already satisfied: zipp>=0.5 in c:\\users\\white\\appdata\\local\\programs\\python\\python37\\lib\\site-packages (from importlib-metadata>=3.6->nbconvert>=6.0->jupyter_contrib_nbextensions) (3.11.0)\n",
      "Requirement already satisfied: python-dateutil>=2.8.2 in c:\\users\\white\\appdata\\roaming\\python\\python37\\site-packages (from jupyter-client>=5.3.4->notebook>=6.0->jupyter_contrib_nbextensions) (2.8.2)\n",
      "Requirement already satisfied: entrypoints in c:\\users\\white\\appdata\\roaming\\python\\python37\\site-packages (from jupyter-client>=5.3.4->notebook>=6.0->jupyter_contrib_nbextensions) (0.4)\n",
      "Requirement already satisfied: jupyter-server>=1.8 in c:\\users\\white\\appdata\\local\\programs\\python\\python37\\lib\\site-packages (from nbclassic>=0.4.7->notebook>=6.0->jupyter_contrib_nbextensions) (1.23.6)\n",
      "Requirement already satisfied: notebook-shim>=0.1.0 in c:\\users\\white\\appdata\\local\\programs\\python\\python37\\lib\\site-packages (from nbclassic>=0.4.7->notebook>=6.0->jupyter_contrib_nbextensions) (0.2.2)\n",
      "Requirement already satisfied: jsonschema>=2.6 in c:\\users\\white\\appdata\\local\\programs\\python\\python37\\lib\\site-packages (from nbformat>=5.1->nbconvert>=6.0->jupyter_contrib_nbextensions) (4.17.3)\n",
      "Requirement already satisfied: fastjsonschema in c:\\users\\white\\appdata\\local\\programs\\python\\python37\\lib\\site-packages (from nbformat>=5.1->nbconvert>=6.0->jupyter_contrib_nbextensions) (2.16.3)\n",
      "Requirement already satisfied: pywinpty>=1.1.0 in c:\\users\\white\\appdata\\local\\programs\\python\\python37\\lib\\site-packages (from terminado>=0.8.3->notebook>=6.0->jupyter_contrib_nbextensions) (2.0.10)\n",
      "Requirement already satisfied: argon2-cffi-bindings in c:\\users\\white\\appdata\\local\\programs\\python\\python37\\lib\\site-packages (from argon2-cffi->notebook>=6.0->jupyter_contrib_nbextensions) (21.2.0)\n",
      "Requirement already satisfied: soupsieve>1.2 in c:\\users\\white\\appdata\\local\\programs\\python\\python37\\lib\\site-packages (from beautifulsoup4->nbconvert>=6.0->jupyter_contrib_nbextensions) (2.4)\n",
      "Requirement already satisfied: six>=1.9.0 in c:\\users\\white\\appdata\\roaming\\python\\python37\\site-packages (from bleach->nbconvert>=6.0->jupyter_contrib_nbextensions) (1.16.0)\n",
      "Requirement already satisfied: webencodings in c:\\users\\white\\appdata\\local\\programs\\python\\python37\\lib\\site-packages (from bleach->nbconvert>=6.0->jupyter_contrib_nbextensions) (0.5.1)\n",
      "Requirement already satisfied: psutil in c:\\users\\white\\appdata\\roaming\\python\\python37\\site-packages (from ipykernel->notebook>=6.0->jupyter_contrib_nbextensions) (5.9.4)\n",
      "Requirement already satisfied: debugpy>=1.0 in c:\\users\\white\\appdata\\roaming\\python\\python37\\site-packages (from ipykernel->notebook>=6.0->jupyter_contrib_nbextensions) (1.6.5)\n",
      "Requirement already satisfied: ipython>=7.23.1 in c:\\users\\white\\appdata\\roaming\\python\\python37\\site-packages (from ipykernel->notebook>=6.0->jupyter_contrib_nbextensions) (7.34.0)\n",
      "Requirement already satisfied: matplotlib-inline>=0.1 in c:\\users\\white\\appdata\\roaming\\python\\python37\\site-packages (from ipykernel->notebook>=6.0->jupyter_contrib_nbextensions) (0.1.6)\n",
      "Requirement already satisfied: pickleshare in c:\\users\\white\\appdata\\roaming\\python\\python37\\site-packages (from ipython>=7.23.1->ipykernel->notebook>=6.0->jupyter_contrib_nbextensions) (0.7.5)\n",
      "Requirement already satisfied: prompt-toolkit!=3.0.0,!=3.0.1,<3.1.0,>=2.0.0 in c:\\users\\white\\appdata\\roaming\\python\\python37\\site-packages (from ipython>=7.23.1->ipykernel->notebook>=6.0->jupyter_contrib_nbextensions) (3.0.36)\n",
      "Requirement already satisfied: backcall in c:\\users\\white\\appdata\\roaming\\python\\python37\\site-packages (from ipython>=7.23.1->ipykernel->notebook>=6.0->jupyter_contrib_nbextensions) (0.2.0)\n",
      "Requirement already satisfied: colorama in c:\\users\\white\\appdata\\local\\programs\\python\\python37\\lib\\site-packages (from ipython>=7.23.1->ipykernel->notebook>=6.0->jupyter_contrib_nbextensions) (0.4.6)\n",
      "Requirement already satisfied: jedi>=0.16 in c:\\users\\white\\appdata\\roaming\\python\\python37\\site-packages (from ipython>=7.23.1->ipykernel->notebook>=6.0->jupyter_contrib_nbextensions) (0.18.2)\n",
      "Requirement already satisfied: decorator in c:\\users\\white\\appdata\\roaming\\python\\python37\\site-packages (from ipython>=7.23.1->ipykernel->notebook>=6.0->jupyter_contrib_nbextensions) (5.1.1)\n",
      "Requirement already satisfied: pkgutil-resolve-name>=1.3.10 in c:\\users\\white\\appdata\\local\\programs\\python\\python37\\lib\\site-packages (from jsonschema>=2.6->nbformat>=5.1->nbconvert>=6.0->jupyter_contrib_nbextensions) (1.3.10)\n",
      "Requirement already satisfied: pyrsistent!=0.17.0,!=0.17.1,!=0.17.2,>=0.14.0 in c:\\users\\white\\appdata\\local\\programs\\python\\python37\\lib\\site-packages (from jsonschema>=2.6->nbformat>=5.1->nbconvert>=6.0->jupyter_contrib_nbextensions) (0.19.3)\n",
      "Requirement already satisfied: importlib-resources>=1.4.0 in c:\\users\\white\\appdata\\local\\programs\\python\\python37\\lib\\site-packages (from jsonschema>=2.6->nbformat>=5.1->nbconvert>=6.0->jupyter_contrib_nbextensions) (5.10.2)\n",
      "Requirement already satisfied: attrs>=17.4.0 in c:\\users\\white\\appdata\\local\\programs\\python\\python37\\lib\\site-packages (from jsonschema>=2.6->nbformat>=5.1->nbconvert>=6.0->jupyter_contrib_nbextensions) (22.2.0)\n",
      "Requirement already satisfied: anyio<4,>=3.1.0 in c:\\users\\white\\appdata\\local\\programs\\python\\python37\\lib\\site-packages (from jupyter-server>=1.8->nbclassic>=0.4.7->notebook>=6.0->jupyter_contrib_nbextensions) (3.6.2)\n",
      "Requirement already satisfied: websocket-client in c:\\users\\white\\appdata\\local\\programs\\python\\python37\\lib\\site-packages (from jupyter-server>=1.8->nbclassic>=0.4.7->notebook>=6.0->jupyter_contrib_nbextensions) (1.5.1)\n",
      "Requirement already satisfied: cffi>=1.0.1 in c:\\users\\white\\appdata\\local\\programs\\python\\python37\\lib\\site-packages (from argon2-cffi-bindings->argon2-cffi->notebook>=6.0->jupyter_contrib_nbextensions) (1.15.1)\n",
      "Requirement already satisfied: sniffio>=1.1 in c:\\users\\white\\appdata\\local\\programs\\python\\python37\\lib\\site-packages (from anyio<4,>=3.1.0->jupyter-server>=1.8->nbclassic>=0.4.7->notebook>=6.0->jupyter_contrib_nbextensions) (1.3.0)\n",
      "Requirement already satisfied: idna>=2.8 in c:\\users\\white\\appdata\\local\\programs\\python\\python37\\lib\\site-packages (from anyio<4,>=3.1.0->jupyter-server>=1.8->nbclassic>=0.4.7->notebook>=6.0->jupyter_contrib_nbextensions) (3.4)\n",
      "Requirement already satisfied: pycparser in c:\\users\\white\\appdata\\local\\programs\\python\\python37\\lib\\site-packages (from cffi>=1.0.1->argon2-cffi-bindings->argon2-cffi->notebook>=6.0->jupyter_contrib_nbextensions) (2.21)\n",
      "Requirement already satisfied: parso<0.9.0,>=0.8.0 in c:\\users\\white\\appdata\\roaming\\python\\python37\\site-packages (from jedi>=0.16->ipython>=7.23.1->ipykernel->notebook>=6.0->jupyter_contrib_nbextensions) (0.8.3)\n",
      "Requirement already satisfied: wcwidth in c:\\users\\white\\appdata\\roaming\\python\\python37\\site-packages (from prompt-toolkit!=3.0.0,!=3.0.1,<3.1.0,>=2.0.0->ipython>=7.23.1->ipykernel->notebook>=6.0->jupyter_contrib_nbextensions) (0.2.5)\n"
     ]
    },
    {
     "name": "stderr",
     "output_type": "stream",
     "text": [
      "'jupyter'��(��) ���� �Ǵ� �ܺ� ����, ������ �� �ִ� ���α׷�, �Ǵ�\n",
      "��ġ ������ �ƴմϴ�.\n"
     ]
    }
   ],
   "source": [
    "# 필요 라이브러리 설치\n",
    "!pip install torchviz\n",
    "!apt install tree\n",
    "!pip install jupyter_contrib_nbextensions && jupyter contrib nbextension install"
   ]
  },
  {
   "cell_type": "code",
   "execution_count": 3,
   "metadata": {},
   "outputs": [],
   "source": [
    "#%%"
   ]
  },
  {
   "cell_type": "code",
   "execution_count": 4,
   "metadata": {},
   "outputs": [
    {
     "name": "stderr",
     "output_type": "stream",
     "text": [
      "c:\\Users\\white\\AppData\\Local\\Programs\\Python\\Python37\\lib\\site-packages\\tqdm\\auto.py:22: TqdmWarning: IProgress not found. Please update jupyter and ipywidgets. See https://ipywidgets.readthedocs.io/en/stable/user_install.html\n",
      "  from .autonotebook import tqdm as notebook_tqdm\n"
     ]
    }
   ],
   "source": [
    "# 라이브러리 임포트\n",
    "#%matplotlib inline\n",
    "import numpy as np\n",
    "import matplotlib.pyplot as plt\n",
    "import matplotlib.image as img\n",
    "from IPython.display import display\n",
    "\n",
    "# 나눔 고딕 폰트의 경로 명시 (폰트 없으니 생략)\n",
    "#path = '/usr/share/fonts/truetype/nanum/NanumGothic.ttf'\n",
    "#font_name = fm.FontProperties(fname=path, size=10).get_name()\n",
    "\n",
    "import torch\n",
    "import torch.nn as nn\n",
    "import torch.optim as optim\n",
    "import torchvision.datasets as datasets\n",
    "import torchvision.transforms as transforms\n",
    "from torch.utils.data import DataLoader"
   ]
  },
  {
   "attachments": {},
   "cell_type": "markdown",
   "metadata": {},
   "source": [
    "## 초기 설정"
   ]
  },
  {
   "cell_type": "code",
   "execution_count": 5,
   "metadata": {},
   "outputs": [
    {
     "name": "stdout",
     "output_type": "stream",
     "text": [
      "cuda:0\n"
     ]
    }
   ],
   "source": [
    "#초기설정\n",
    "\n",
    "#기본 폰트 사이즈 변경\n",
    "plt.rcParams['font.size']=14\n",
    "\n",
    "#warning 표시 끄기(사용안함)\n",
    "\"\"\"\n",
    "import warnings\n",
    "warnings.simplefilter('ignore')\n",
    "\"\"\"\n",
    "\n",
    "#GPU 디바이스 할당 (8장에서 자세히 설명)\n",
    "\n",
    "device = torch.device(\"cuda:0\" if torch.cuda.is_available() else \"cpu\")\n",
    "print(device)"
   ]
  },
  {
   "cell_type": "code",
   "execution_count": 6,
   "metadata": {},
   "outputs": [
    {
     "ename": "ModuleNotFoundError",
     "evalue": "No module named 'pythonlibs'",
     "output_type": "error",
     "traceback": [
      "\u001b[1;31m---------------------------------------------------------------------------\u001b[0m",
      "\u001b[1;31mModuleNotFoundError\u001b[0m                       Traceback (most recent call last)",
      "\u001b[1;32m~\\AppData\\Local\\Temp\\ipykernel_1484\\3965685990.py\u001b[0m in \u001b[0;36m<module>\u001b[1;34m\u001b[0m\n\u001b[0;32m      6\u001b[0m \u001b[1;33m\u001b[0m\u001b[0m\n\u001b[0;32m      7\u001b[0m \u001b[1;31m#공통함수 임포트\u001b[0m\u001b[1;33m\u001b[0m\u001b[1;33m\u001b[0m\u001b[1;33m\u001b[0m\u001b[0m\n\u001b[1;32m----> 8\u001b[1;33m \u001b[1;32mfrom\u001b[0m \u001b[0mpythonlibs\u001b[0m\u001b[1;33m.\u001b[0m\u001b[0mtorch_lib1\u001b[0m \u001b[1;32mimport\u001b[0m \u001b[1;33m*\u001b[0m\u001b[1;33m\u001b[0m\u001b[1;33m\u001b[0m\u001b[0m\n\u001b[0m\u001b[0;32m      9\u001b[0m \u001b[1;33m\u001b[0m\u001b[0m\n\u001b[0;32m     10\u001b[0m \u001b[1;31m#공통함수 체크\u001b[0m\u001b[1;33m\u001b[0m\u001b[1;33m\u001b[0m\u001b[1;33m\u001b[0m\u001b[0m\n",
      "\u001b[1;31mModuleNotFoundError\u001b[0m: No module named 'pythonlibs'"
     ]
    }
   ],
   "source": [
    "#공통함수 읽어오기 (9강에서 자세히 설명)\n",
    "\n",
    "#공통함수 다운로드(이책에서 사용할 데이터 셋과 여러 함수들이 들어있음(loss function, learn 등))\n",
    "#초기에만 해주고 나중부턴 안해도 됨, 코드 자체를 처음실행할때만\n",
    "#!git clone https://github.com/wikibook/pythonlibs.git\n",
    "\n",
    "#공통함수 임포트\n",
    "from pythonlibs.torch_lib1 import *\n",
    "\n",
    "#공통함수 체크\n",
    "print(README)"
   ]
  },
  {
   "attachments": {},
   "cell_type": "markdown",
   "metadata": {},
   "source": [
    "## 학습 데이터 읽어오기"
   ]
  },
  {
   "cell_type": "code",
   "execution_count": null,
   "metadata": {},
   "outputs": [],
   "source": [
    "import os\n",
    "# 학습용 데이터 수집하기 (12장)\n",
    "\n",
    "data_dir=\"dog_wolf\"\n",
    "train_dir = os.path.join(data_dir,'train')\n",
    "test_dir = os.path.join(data_dir,'test')\n",
    "\n",
    "classes = ['dog','wolf']"
   ]
  },
  {
   "cell_type": "code",
   "execution_count": null,
   "metadata": {},
   "outputs": [],
   "source": [
    "#학습용 데이터 준비하기 (8장,10장,12장)\n",
    "\n",
    "#transform 의 정의\n",
    "#검증 데이터용 : 정규화만을 실시\n",
    "test_transform = transforms.Compose([\n",
    "    transforms.Resize(224),\n",
    "    transforms.CenterCrop(224),\n",
    "    transforms.ToTensor(),\n",
    "    transforms.Normalize(0.5,0.5)\n",
    "\n",
    "])\n",
    "\n",
    "#학습 데이터용 : 정규화에 RandomHorizontalFlip 과 RandomErasing 을 추가로 실시\n",
    "#RandomHorizontalFlip : 기본 이미지를 랜덤하게 회전해서 데이터 셋에 넣는것 => 더욱 다양한 데이터셋을 구성할 수 있음\n",
    "#RandomErasing : 기본 이미지에서 특정 픽셀을 선택하고 지우기\n",
    "train_transform = transforms.Compose([\n",
    "    transforms.RandomHorizontalFlip(p=0.5),\n",
    "    transforms.Resize(224),\n",
    "    transforms.CenterCrop(224),\n",
    "    transforms.ToTensor(),\n",
    "    transforms.Normalize(0.5,0.5),\n",
    "    transforms.RandomErasing(p=0.5,scale=(0.02,0.33),ratio=(0.3,3.3),value=0,inplace=False)\n",
    "\n",
    "])\n",
    "\n",
    "#dataset 정의\n",
    "train_data = datasets.ImageFolder(train_dir,transform=train_transform)\n",
    "train_data2 = datasets.ImageFolder(train_dir,transform=train_transform)\n",
    "test_data = datasets.ImageFolder(test_dir,transform=test_transform)\n",
    "\n",
    "#dataloader 정의\n",
    "batch_size = 5\n",
    "#train_loader = DataLoader(train_data, batch_size=batch_size,shuffle=True)\n",
    "train_loader = DataLoader(train_data, batch_size=batch_size,shuffle=True)\n",
    "train_loader2 = DataLoader(train_data2, batch_size=40,shuffle=False)\n",
    "test_loader = DataLoader(train_data, batch_size=batch_size,shuffle=False)\n",
    "test_loader2 = DataLoader(train_data, batch_size=10,shuffle=True)\n",
    "\n"
   ]
  },
  {
   "attachments": {},
   "cell_type": "markdown",
   "metadata": {},
   "source": [
    "## 학습 이미지 데이터 확인"
   ]
  },
  {
   "cell_type": "code",
   "execution_count": null,
   "metadata": {},
   "outputs": [],
   "source": [
    "#show_images_labels : 각 이미지를 학습시킨 결과를 출력하는 함수, 뒤에 None 2개가 순서대로 model,device임\n",
    "show_images_labels(train_loader2,classes,None,None)\n",
    "#vsc 에선 plt img 가 안나옴"
   ]
  },
  {
   "attachments": {},
   "cell_type": "markdown",
   "metadata": {},
   "source": [
    "## 검증 이미지 데이터 확인"
   ]
  },
  {
   "cell_type": "code",
   "execution_count": null,
   "metadata": {},
   "outputs": [],
   "source": [
    "#%%\n",
    "# 검증용 데이터 (10건)\n",
    "# 우선 정답 라벨 없이 이미지만을 표시합니다.\n",
    "# 각 사진이 개와 늑대중 어떤 것인지 각자 판단해 보기 바랍니다.\n",
    "torch_seed()\n",
    "show_images_labels(test_loader2, ['', ''], None, None)\n",
    "#vsc 에선 plt img 가 안나옴"
   ]
  },
  {
   "cell_type": "code",
   "execution_count": null,
   "metadata": {},
   "outputs": [],
   "source": [
    "# 검증용 데이터 (10건)\n",
    "# 이것이 정답 데이터 입니다.\n",
    "# 10건 중 몇 건의 정답을 맞췄습니까.\n",
    "torch_seed()\n",
    "show_images_labels(test_loader2, classes, None, None)\n",
    "#vsc 에선 plt img 가 안나옴"
   ]
  },
  {
   "attachments": {},
   "cell_type": "markdown",
   "metadata": {},
   "source": [
    "## 모델 구축"
   ]
  },
  {
   "cell_type": "code",
   "execution_count": null,
   "metadata": {},
   "outputs": [],
   "source": [
    "# 사전에 학습이 끝난 모델을 이용해서 모델을 구축 (11장)\n",
    "\n",
    "# 사전에 학습이 끝난 모델 읽어오기\n",
    "from torchvision import models\n",
    "net = models.vgg19_bn(pretrained = True)\n",
    "\n",
    "# 전이 학습을 위해 required_grad 그래프를 False 로 설정\n",
    "for param in net.parameters():\n",
    "    param.requires_grad = False\n",
    "\n",
    "# 난수 고정\n",
    "torch_seed()\n",
    "\n",
    "# 마지막 노드의 출력을 2로 변경\n",
    "in_features = net.classifier[6].in_features\n",
    "net.classifier[6] = nn.Linear(in_features, 2)\n",
    "\n",
    "# AdaptiveAvgPool2d 함수 제거\n",
    "net.avgpool = nn.Identity()\n",
    "\n",
    "# GPU 사용\n",
    "net = net.to(device)\n",
    "\n",
    "# 학습률\n",
    "lr = 0.001\n",
    "\n",
    "# 손실 함수로 교차 엔트로피 사용\n",
    "criterion = nn.CrossEntropyLoss()\n",
    "\n",
    "# 최적화함수 정의\n",
    "\n",
    "# 파라미터 수정 대상을 마지막 노드로 제한함\n",
    "optimizer = optim.SGD(net.classifier[6].parameters(),lr=lr,momentum=0.9)\n",
    "\n",
    "# history 파일을 동시에 초기화\n",
    "history = np.zeros((0, 5))"
   ]
  },
  {
   "attachments": {},
   "cell_type": "markdown",
   "metadata": {},
   "source": [
    "## 학습"
   ]
  },
  {
   "cell_type": "code",
   "execution_count": null,
   "metadata": {},
   "outputs": [],
   "source": [
    "# 학습(9장)\n",
    "# 반복 횟수\n",
    "num_epochs = 10\n",
    "\n",
    "# 학습 (공통함수)\n",
    "history = fit(net, optimizer, criterion, num_epochs, train_loader, test_loader, device, history)"
   ]
  },
  {
   "cell_type": "code",
   "execution_count": null,
   "metadata": {},
   "outputs": [],
   "source": [
    "# 검증 데이터를 대상으로 결과 확인 (9장 공통함수)\n",
    "torch_seed()\n",
    "show_images_labels(test_loader2, classes, net, device)"
   ]
  }
 ],
 "metadata": {
  "kernelspec": {
   "display_name": "Python 3",
   "language": "python",
   "name": "python3"
  },
  "language_info": {
   "codemirror_mode": {
    "name": "ipython",
    "version": 3
   },
   "file_extension": ".py",
   "mimetype": "text/x-python",
   "name": "python",
   "nbconvert_exporter": "python",
   "pygments_lexer": "ipython3",
   "version": "3.7.7"
  },
  "orig_nbformat": 4,
  "vscode": {
   "interpreter": {
    "hash": "3e5a039a7a113538395a7d74f5574b0c5900118222149a18efb009bf03645fce"
   }
  }
 },
 "nbformat": 4,
 "nbformat_minor": 2
}
