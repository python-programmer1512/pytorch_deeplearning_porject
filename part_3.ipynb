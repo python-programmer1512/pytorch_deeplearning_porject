{
 "cells": [
  {
   "attachments": {},
   "cell_type": "markdown",
   "metadata": {},
   "source": [
    "# 3장 처음 시작하는 머신러닝"
   ]
  },
  {
   "attachments": {},
   "cell_type": "markdown",
   "metadata": {},
   "source": [
    "가장 가까운 1차 함수를 구하는 것 : 선형회귀\n",
    "\n",
    "입력값으로 출력값을 예측하는 함수 : 예측 함수\n",
    "\n",
    "파라미터 수정 과정을 발전시킨 것(에측 계산,손실 게산, 경사 계산, 파라미터 수정 과정을 발전) : 최적화 함수\n",
    "\n",
    "모델로 예측한 ㄱ밧과 정답사이의 오차를 수차화 한것 : 손실\n",
    "\n",
    "-> 최대값 구하기 => 최솟값 구하기\n",
    "\n"
   ]
  },
  {
   "attachments": {},
   "cell_type": "markdown",
   "metadata": {},
   "source": [
    "pred : 예측 함수\n",
    "파라미터 수정 : learning rate(lr)을 곱해서 W,B를 줄여 나가는 것\n"
   ]
  },
  {
   "attachments": {},
   "cell_type": "markdown",
   "metadata": {},
   "source": [
    "## 3.0 초기 설정"
   ]
  },
  {
   "cell_type": "code",
   "execution_count": 1,
   "metadata": {},
   "outputs": [
    {
     "data": {
      "text/plain": [
       "'\\n!sudo apt-get install -y fonts-nanum* | tail -n 1\\n!sudo fc-cache -fv\\n!rm -rf ~/.cache/matplotlib\\n'"
      ]
     },
     "execution_count": 1,
     "metadata": {},
     "output_type": "execute_result"
    }
   ],
   "source": [
    "#처음할때만 실행해주고 다음부턴 안해줌\n",
    "\"\"\"\n",
    "!sudo apt-get install -y fonts-nanum* | tail -n 1\n",
    "!sudo fc-cache -fv\n",
    "!rm -rf ~/.cache/matplotlib\n",
    "\"\"\""
   ]
  },
  {
   "cell_type": "code",
   "execution_count": 2,
   "metadata": {},
   "outputs": [
    {
     "name": "stdout",
     "output_type": "stream",
     "text": [
      "Requirement already satisfied: graphviz in c:\\users\\white\\appdata\\local\\programs\\python\\python37\\lib\\site-packages (0.20.1)\n"
     ]
    }
   ],
   "source": [
    "!pip install graphviz"
   ]
  },
  {
   "cell_type": "code",
   "execution_count": 3,
   "metadata": {},
   "outputs": [
    {
     "name": "stderr",
     "output_type": "stream",
     "text": [
      "c:\\Users\\white\\AppData\\Local\\Programs\\Python\\Python37\\lib\\site-packages\\tqdm\\auto.py:22: TqdmWarning: IProgress not found. Please update jupyter and ipywidgets. See https://ipywidgets.readthedocs.io/en/stable/user_install.html\n",
      "  from .autonotebook import tqdm as notebook_tqdm\n"
     ]
    }
   ],
   "source": [
    "# 라이브러리 임포트,폰트 사용안함 문제없음\n",
    "\n",
    "%matplotlib inline\n",
    "\n",
    "\n",
    "import numpy as np\n",
    "import matplotlib.pyplot as plt\n",
    "from IPython.display import display\n",
    "import numpy as np\n",
    "\n",
    "# 파이토치 관련 라이브러리\n",
    "import torch"
   ]
  },
  {
   "attachments": {},
   "cell_type": "markdown",
   "metadata": {},
   "source": [
    "## 3.5 데이터 전처리"
   ]
  },
  {
   "cell_type": "code",
   "execution_count": 4,
   "metadata": {},
   "outputs": [
    {
     "name": "stdout",
     "output_type": "stream",
     "text": [
      "[[166.   58.7]\n",
      " [176.   75.7]\n",
      " [171.   62.1]\n",
      " [173.   70.4]\n",
      " [169.   60.1]]\n"
     ]
    }
   ],
   "source": [
    "sampleData1 = np.array([ # 신장,체중\n",
    "    [166,58.7],\n",
    "    [176.0,75.7],\n",
    "    [171.0,62.1],\n",
    "    [173.0,70.4],\n",
    "    [169.0,60.1]\n",
    "    \n",
    "])\n",
    "print(sampleData1)"
   ]
  },
  {
   "cell_type": "code",
   "execution_count": 5,
   "metadata": {},
   "outputs": [],
   "source": [
    "#신장 : x, 체중 : y\n",
    "x=sampleData1[:,0]\n",
    "y=sampleData1[:,1]"
   ]
  },
  {
   "cell_type": "code",
   "execution_count": 6,
   "metadata": {},
   "outputs": [
    {
     "name": "stderr",
     "output_type": "stream",
     "text": [
      "C:\\Users\\white\\AppData\\Roaming\\Python\\Python37\\site-packages\\IPython\\core\\pylabtools.py:151: UserWarning: Glyph 49888 (\\N{HANGUL SYLLABLE SIN}) missing from current font.\n",
      "  fig.canvas.print_figure(bytes_io, **kw)\n",
      "C:\\Users\\white\\AppData\\Roaming\\Python\\Python37\\site-packages\\IPython\\core\\pylabtools.py:151: UserWarning: Glyph 51109 (\\N{HANGUL SYLLABLE JANG}) missing from current font.\n",
      "  fig.canvas.print_figure(bytes_io, **kw)\n",
      "C:\\Users\\white\\AppData\\Roaming\\Python\\Python37\\site-packages\\IPython\\core\\pylabtools.py:151: UserWarning: Glyph 44284 (\\N{HANGUL SYLLABLE GWA}) missing from current font.\n",
      "  fig.canvas.print_figure(bytes_io, **kw)\n",
      "C:\\Users\\white\\AppData\\Roaming\\Python\\Python37\\site-packages\\IPython\\core\\pylabtools.py:151: UserWarning: Glyph 52404 (\\N{HANGUL SYLLABLE CE}) missing from current font.\n",
      "  fig.canvas.print_figure(bytes_io, **kw)\n",
      "C:\\Users\\white\\AppData\\Roaming\\Python\\Python37\\site-packages\\IPython\\core\\pylabtools.py:151: UserWarning: Glyph 51473 (\\N{HANGUL SYLLABLE JUNG}) missing from current font.\n",
      "  fig.canvas.print_figure(bytes_io, **kw)\n",
      "C:\\Users\\white\\AppData\\Roaming\\Python\\Python37\\site-packages\\IPython\\core\\pylabtools.py:151: UserWarning: Glyph 51032 (\\N{HANGUL SYLLABLE YI}) missing from current font.\n",
      "  fig.canvas.print_figure(bytes_io, **kw)\n",
      "C:\\Users\\white\\AppData\\Roaming\\Python\\Python37\\site-packages\\IPython\\core\\pylabtools.py:151: UserWarning: Glyph 44288 (\\N{HANGUL SYLLABLE GWAN}) missing from current font.\n",
      "  fig.canvas.print_figure(bytes_io, **kw)\n",
      "C:\\Users\\white\\AppData\\Roaming\\Python\\Python37\\site-packages\\IPython\\core\\pylabtools.py:151: UserWarning: Glyph 44228 (\\N{HANGUL SYLLABLE GYE}) missing from current font.\n",
      "  fig.canvas.print_figure(bytes_io, **kw)\n",
      "Font 'default' does not have a glyph for '\\uc2e0' [U+c2e0], substituting with a dummy symbol.\n",
      "Font 'default' does not have a glyph for '\\uc7a5' [U+c7a5], substituting with a dummy symbol.\n",
      "Font 'default' does not have a glyph for '\\uc2e0' [U+c2e0], substituting with a dummy symbol.\n",
      "Font 'default' does not have a glyph for '\\uc7a5' [U+c7a5], substituting with a dummy symbol.\n"
     ]
    },
    {
     "data": {
      "image/png": "[encoded data removed]",
      "text/plain": [
       "<Figure size 640x480 with 1 Axes>"
      ]
     },
     "metadata": {},
     "output_type": "display_data"
    }
   ],
   "source": [
    "#산포도\n",
    "plt.scatter(x,y,c='k',s=50)\n",
    "plt.xlabel('$x$: 신장 (cm)')\n",
    "plt.ylabel('$y%: 체중 (kg)')\n",
    "plt.title('신장과 체중의 관계')\n",
    "plt.show()"
   ]
  },
  {
   "cell_type": "code",
   "execution_count": 7,
   "metadata": {},
   "outputs": [],
   "source": [
    "# 데이터 변환\n",
    "X=x-x.mean()\n",
    "Y=y-y.mean()"
   ]
  },
  {
   "cell_type": "code",
   "execution_count": 8,
   "metadata": {},
   "outputs": [
    {
     "name": "stdout",
     "output_type": "stream",
     "text": [
      "[-5.  5.  0.  2. -2.]\n",
      "[-6.7 10.3 -3.3  5.  -5.3]\n"
     ]
    }
   ],
   "source": [
    "print(X)\n",
    "print(Y)"
   ]
  },
  {
   "cell_type": "code",
   "execution_count": 9,
   "metadata": {},
   "outputs": [
    {
     "name": "stderr",
     "output_type": "stream",
     "text": [
      "C:\\Users\\white\\AppData\\Roaming\\Python\\Python37\\site-packages\\IPython\\core\\pylabtools.py:151: UserWarning: Glyph 45936 (\\N{HANGUL SYLLABLE DE}) missing from current font.\n",
      "  fig.canvas.print_figure(bytes_io, **kw)\n",
      "C:\\Users\\white\\AppData\\Roaming\\Python\\Python37\\site-packages\\IPython\\core\\pylabtools.py:151: UserWarning: Glyph 51060 (\\N{HANGUL SYLLABLE I}) missing from current font.\n",
      "  fig.canvas.print_figure(bytes_io, **kw)\n",
      "C:\\Users\\white\\AppData\\Roaming\\Python\\Python37\\site-packages\\IPython\\core\\pylabtools.py:151: UserWarning: Glyph 53552 (\\N{HANGUL SYLLABLE TEO}) missing from current font.\n",
      "  fig.canvas.print_figure(bytes_io, **kw)\n",
      "C:\\Users\\white\\AppData\\Roaming\\Python\\Python37\\site-packages\\IPython\\core\\pylabtools.py:151: UserWarning: Glyph 44032 (\\N{HANGUL SYLLABLE GA}) missing from current font.\n",
      "  fig.canvas.print_figure(bytes_io, **kw)\n",
      "C:\\Users\\white\\AppData\\Roaming\\Python\\Python37\\site-packages\\IPython\\core\\pylabtools.py:151: UserWarning: Glyph 44277 (\\N{HANGUL SYLLABLE GONG}) missing from current font.\n",
      "  fig.canvas.print_figure(bytes_io, **kw)\n",
      "C:\\Users\\white\\AppData\\Roaming\\Python\\Python37\\site-packages\\IPython\\core\\pylabtools.py:151: UserWarning: Glyph 54980 (\\N{HANGUL SYLLABLE HU}) missing from current font.\n",
      "  fig.canvas.print_figure(bytes_io, **kw)\n"
     ]
    },
    {
     "data": {
      "image/png": "[encoded data removed]",
      "text/plain": [
       "<Figure size 640x480 with 1 Axes>"
      ]
     },
     "metadata": {},
     "output_type": "display_data"
    }
   ],
   "source": [
    "# 산포도를 통해 결과 확인\n",
    "\n",
    "plt.scatter(X,  Y,  c='k',  s=50)\n",
    "plt.xlabel('$X$')\n",
    "plt.ylabel('$Y$')\n",
    "plt.title('데이터 가공 후 신장과 체중의 관계')\n",
    "plt.show()"
   ]
  },
  {
   "attachments": {},
   "cell_type": "markdown",
   "metadata": {},
   "source": [
    "## 3.6 예측 계산"
   ]
  },
  {
   "cell_type": "code",
   "execution_count": 10,
   "metadata": {},
   "outputs": [],
   "source": [
    "# X와 Y를 텐서 변수로 변환\n",
    "\n",
    "X = torch.tensor(X).float()\n",
    "Y = torch.tensor(Y).float()"
   ]
  },
  {
   "cell_type": "code",
   "execution_count": 12,
   "metadata": {},
   "outputs": [
    {
     "name": "stdout",
     "output_type": "stream",
     "text": [
      "tensor([-5.,  5.,  0.,  2., -2.])\n",
      "tensor([-6.7000, 10.3000, -3.3000,  5.0000, -5.3000])\n"
     ]
    }
   ],
   "source": [
    "print(X)\n",
    "print(Y)"
   ]
  },
  {
   "cell_type": "code",
   "execution_count": 11,
   "metadata": {},
   "outputs": [],
   "source": [
    "# 파라미터 정의\n",
    "# W와 B는 경사 계산을 위해, requires_grad=True 로 설정함\n",
    "\n",
    "W = torch.tensor(1.0, requires_grad=True).float()\n",
    "B = torch.tensor(1.0, requires_grad=True).float()"
   ]
  },
  {
   "cell_type": "code",
   "execution_count": 13,
   "metadata": {},
   "outputs": [],
   "source": [
    "# 예측 함수는 1차 함수\n",
    "\n",
    "def pred(X):\n",
    "    return W * X + B"
   ]
  },
  {
   "cell_type": "code",
   "execution_count": 14,
   "metadata": {},
   "outputs": [],
   "source": [
    "# 예측 값 계산\n",
    "\n",
    "Yp =  pred(X)"
   ]
  },
  {
   "cell_type": "code",
   "execution_count": 15,
   "metadata": {},
   "outputs": [
    {
     "name": "stdout",
     "output_type": "stream",
     "text": [
      "tensor([-4.,  6.,  1.,  3., -1.], grad_fn=<AddBackward0>)\n"
     ]
    }
   ],
   "source": [
    "# 결과 확인\n",
    "\n",
    "print(Yp)"
   ]
  },
  {
   "cell_type": "code",
   "execution_count": 16,
   "metadata": {},
   "outputs": [],
   "source": [
    "params={'W':W,'B':B}"
   ]
  },
  {
   "attachments": {},
   "cell_type": "markdown",
   "metadata": {},
   "source": [
    "## 3.7 손실 계산"
   ]
  },
  {
   "cell_type": "code",
   "execution_count": 17,
   "metadata": {},
   "outputs": [],
   "source": [
    "#평균 제곱 오차 손실 함수\n",
    "\n",
    "def mse(Yp,Y):\n",
    "    loss=((Yp-Y)**2).mean()\n",
    "    return loss\n"
   ]
  },
  {
   "cell_type": "code",
   "execution_count": 18,
   "metadata": {},
   "outputs": [],
   "source": [
    "loss=mse(Yp,Y)"
   ]
  },
  {
   "cell_type": "code",
   "execution_count": 19,
   "metadata": {},
   "outputs": [
    {
     "name": "stdout",
     "output_type": "stream",
     "text": [
      "tensor(13.3520, grad_fn=<MeanBackward0>)\n"
     ]
    }
   ],
   "source": [
    "print(loss)"
   ]
  },
  {
   "attachments": {},
   "cell_type": "markdown",
   "metadata": {},
   "source": [
    "## 3.8 경사 계산"
   ]
  },
  {
   "cell_type": "code",
   "execution_count": 20,
   "metadata": {},
   "outputs": [],
   "source": [
    "#경사 계산\n",
    "loss.backward()"
   ]
  },
  {
   "cell_type": "code",
   "execution_count": 21,
   "metadata": {},
   "outputs": [
    {
     "name": "stdout",
     "output_type": "stream",
     "text": [
      "tensor(1., requires_grad=True)\n"
     ]
    }
   ],
   "source": [
    "print(W)"
   ]
  },
  {
   "cell_type": "code",
   "execution_count": 22,
   "metadata": {},
   "outputs": [
    {
     "name": "stdout",
     "output_type": "stream",
     "text": [
      "tensor(-19.0400)\n",
      "tensor(2.0000)\n"
     ]
    }
   ],
   "source": [
    "print(W.grad)\n",
    "print(B.grad)"
   ]
  },
  {
   "attachments": {},
   "cell_type": "markdown",
   "metadata": {},
   "source": [
    "## 3.9 파라미터 수정"
   ]
  },
  {
   "cell_type": "code",
   "execution_count": 25,
   "metadata": {},
   "outputs": [],
   "source": [
    "lr = 0.001\n",
    "\n",
    "#경사를 기반으로 파라미터 수정\n",
    "with torch.no_grad():\n",
    "    W -= lr*W.grad\n",
    "    B -= lr*B.grad\n",
    "\n",
    "    #계산이 끝난 경사값을 초기화 함\n",
    "\n",
    "    W.grad.zero_()\n",
    "    B.grad.zero_()"
   ]
  },
  {
   "cell_type": "code",
   "execution_count": 26,
   "metadata": {},
   "outputs": [
    {
     "name": "stdout",
     "output_type": "stream",
     "text": [
      "tensor(1.0381, requires_grad=True)\n",
      "tensor(0.9960, requires_grad=True)\n",
      "tensor(0.)\n",
      "tensor(0.)\n"
     ]
    }
   ],
   "source": [
    "#W에 값과 경사값 이 있는데 값은 최적의 파라미터를 나타내고, 경사값은 그 값의 오차율에 따른 경사값을 가지고 있다\n",
    "#경사값을 진행할 수록 더해지기 때문에 매번 초기화해야함\n",
    "\n",
    "print(W)\n",
    "print(B)\n",
    "print(W.grad)\n",
    "print(B.grad)"
   ]
  },
  {
   "attachments": {},
   "cell_type": "markdown",
   "metadata": {},
   "source": [
    "## 3.10 반복 계산"
   ]
  },
  {
   "cell_type": "code",
   "execution_count": 27,
   "metadata": {},
   "outputs": [],
   "source": [
    "# 초기화\n",
    "\n",
    "# W와 B를 변수로 사용\n",
    "W = torch.tensor(1.0, requires_grad=True).float()\n",
    "B = torch.tensor(1.0, requires_grad=True).float()\n",
    "\n",
    "# 반복 횟수\n",
    "num_epochs = 500\n",
    "\n",
    "# 학습률\n",
    "lr = 0.001\n",
    "\n",
    "# history 기록을 위한 배열 초기화\n",
    "history = np.zeros((0, 2))"
   ]
  },
  {
   "cell_type": "code",
   "execution_count": 28,
   "metadata": {},
   "outputs": [
    {
     "name": "stdout",
     "output_type": "stream",
     "text": [
      "epoch = 0  loss = 13.3520\n",
      "epoch = 10  loss = 10.3855\n",
      "epoch = 20  loss = 8.5173\n",
      "epoch = 30  loss = 7.3364\n",
      "epoch = 40  loss = 6.5858\n",
      "epoch = 50  loss = 6.1047\n",
      "epoch = 60  loss = 5.7927\n",
      "epoch = 70  loss = 5.5868\n",
      "epoch = 80  loss = 5.4476\n",
      "epoch = 90  loss = 5.3507\n",
      "epoch = 100  loss = 5.2805\n",
      "epoch = 110  loss = 5.2275\n",
      "epoch = 120  loss = 5.1855\n",
      "epoch = 130  loss = 5.1507\n",
      "epoch = 140  loss = 5.1208\n",
      "epoch = 150  loss = 5.0943\n",
      "epoch = 160  loss = 5.0703\n",
      "epoch = 170  loss = 5.0480\n",
      "epoch = 180  loss = 5.0271\n",
      "epoch = 190  loss = 5.0074\n",
      "epoch = 200  loss = 4.9887\n",
      "epoch = 210  loss = 4.9708\n",
      "epoch = 220  loss = 4.9537\n",
      "epoch = 230  loss = 4.9373\n",
      "epoch = 240  loss = 4.9217\n",
      "epoch = 250  loss = 4.9066\n",
      "epoch = 260  loss = 4.8922\n",
      "epoch = 270  loss = 4.8783\n",
      "epoch = 280  loss = 4.8650\n",
      "epoch = 290  loss = 4.8522\n",
      "epoch = 300  loss = 4.8399\n",
      "epoch = 310  loss = 4.8281\n",
      "epoch = 320  loss = 4.8167\n",
      "epoch = 330  loss = 4.8058\n",
      "epoch = 340  loss = 4.7953\n",
      "epoch = 350  loss = 4.7853\n",
      "epoch = 360  loss = 4.7756\n",
      "epoch = 370  loss = 4.7663\n",
      "epoch = 380  loss = 4.7574\n",
      "epoch = 390  loss = 4.7488\n",
      "epoch = 400  loss = 4.7406\n",
      "epoch = 410  loss = 4.7327\n",
      "epoch = 420  loss = 4.7251\n",
      "epoch = 430  loss = 4.7178\n",
      "epoch = 440  loss = 4.7108\n",
      "epoch = 450  loss = 4.7040\n",
      "epoch = 460  loss = 4.6976\n",
      "epoch = 470  loss = 4.6913\n",
      "epoch = 480  loss = 4.6854\n",
      "epoch = 490  loss = 4.6796\n"
     ]
    }
   ],
   "source": [
    "# 루프 처리\n",
    "\n",
    "for epoch in range(num_epochs):\n",
    "\n",
    "    # 예측 계산\n",
    "    Yp = pred(X)\n",
    "    \n",
    "    # 손실 계산\n",
    "    loss = mse(Yp, Y)\n",
    "    \n",
    "    # 경사 계산\n",
    "    loss.backward()\n",
    "    \n",
    "    with torch.no_grad():\n",
    "        # 파라미터 수정\n",
    "        W -= lr * W.grad\n",
    "        B -= lr * B.grad\n",
    "        \n",
    "        # 경삿값 초기화\n",
    "        W.grad.zero_()\n",
    "        B.grad.zero_()\n",
    "        \n",
    "    # 손실 기록\n",
    "    if (epoch %10 == 0):\n",
    "        item = np.array([epoch, loss.item()])\n",
    "        history = np.vstack((history, item))\n",
    "        print(f'epoch = {epoch}  loss = {loss:.4f}')"
   ]
  },
  {
   "cell_type": "code",
   "execution_count": 29,
   "metadata": {},
   "outputs": [
    {
     "name": "stdout",
     "output_type": "stream",
     "text": [
      "W =  1.820683\n",
      "B =  0.3675114\n",
      "초기상태 : 손실:13.3520\n",
      "최종상태 : 손실:4.6796\n"
     ]
    }
   ],
   "source": [
    "# 최종 파라미터 값\n",
    "print('W = ', W.data.numpy())\n",
    "print('B = ', B.data.numpy())\n",
    "\n",
    "# 손실 확인\n",
    "print(f'초기상태 : 손실:{history[0,1]:.4f}') \n",
    "print(f'최종상태 : 손실:{history[-1,1]:.4f}') "
   ]
  },
  {
   "cell_type": "code",
   "execution_count": 30,
   "metadata": {},
   "outputs": [
    {
     "name": "stderr",
     "output_type": "stream",
     "text": [
      "C:\\Users\\white\\AppData\\Roaming\\Python\\Python37\\site-packages\\IPython\\core\\pylabtools.py:151: UserWarning: Glyph 54617 (\\N{HANGUL SYLLABLE HAG}) missing from current font.\n",
      "  fig.canvas.print_figure(bytes_io, **kw)\n",
      "C:\\Users\\white\\AppData\\Roaming\\Python\\Python37\\site-packages\\IPython\\core\\pylabtools.py:151: UserWarning: Glyph 49845 (\\N{HANGUL SYLLABLE SEUB}) missing from current font.\n",
      "  fig.canvas.print_figure(bytes_io, **kw)\n",
      "C:\\Users\\white\\AppData\\Roaming\\Python\\Python37\\site-packages\\IPython\\core\\pylabtools.py:151: UserWarning: Glyph 44257 (\\N{HANGUL SYLLABLE GOG}) missing from current font.\n",
      "  fig.canvas.print_figure(bytes_io, **kw)\n",
      "C:\\Users\\white\\AppData\\Roaming\\Python\\Python37\\site-packages\\IPython\\core\\pylabtools.py:151: UserWarning: Glyph 49440 (\\N{HANGUL SYLLABLE SEON}) missing from current font.\n",
      "  fig.canvas.print_figure(bytes_io, **kw)\n",
      "C:\\Users\\white\\AppData\\Roaming\\Python\\Python37\\site-packages\\IPython\\core\\pylabtools.py:151: UserWarning: Glyph 49552 (\\N{HANGUL SYLLABLE SON}) missing from current font.\n",
      "  fig.canvas.print_figure(bytes_io, **kw)\n",
      "C:\\Users\\white\\AppData\\Roaming\\Python\\Python37\\site-packages\\IPython\\core\\pylabtools.py:151: UserWarning: Glyph 49892 (\\N{HANGUL SYLLABLE SIL}) missing from current font.\n",
      "  fig.canvas.print_figure(bytes_io, **kw)\n",
      "C:\\Users\\white\\AppData\\Roaming\\Python\\Python37\\site-packages\\IPython\\core\\pylabtools.py:151: UserWarning: Glyph 48152 (\\N{HANGUL SYLLABLE BAN}) missing from current font.\n",
      "  fig.canvas.print_figure(bytes_io, **kw)\n",
      "C:\\Users\\white\\AppData\\Roaming\\Python\\Python37\\site-packages\\IPython\\core\\pylabtools.py:151: UserWarning: Glyph 48373 (\\N{HANGUL SYLLABLE BOG}) missing from current font.\n",
      "  fig.canvas.print_figure(bytes_io, **kw)\n",
      "C:\\Users\\white\\AppData\\Roaming\\Python\\Python37\\site-packages\\IPython\\core\\pylabtools.py:151: UserWarning: Glyph 54943 (\\N{HANGUL SYLLABLE HOES}) missing from current font.\n",
      "  fig.canvas.print_figure(bytes_io, **kw)\n",
      "C:\\Users\\white\\AppData\\Roaming\\Python\\Python37\\site-packages\\IPython\\core\\pylabtools.py:151: UserWarning: Glyph 49688 (\\N{HANGUL SYLLABLE SU}) missing from current font.\n",
      "  fig.canvas.print_figure(bytes_io, **kw)\n"
     ]
    },
    {
     "data": {
      "image/png": "[encoded data removed]",
      "text/plain": [
       "<Figure size 640x480 with 1 Axes>"
      ]
     },
     "metadata": {},
     "output_type": "display_data"
    }
   ],
   "source": [
    "# 학습 곡선 출력(손실)\n",
    "\n",
    "plt.plot(history[:,0], history[:,1], 'b')\n",
    "plt.xlabel('반복 횟수')\n",
    "plt.ylabel('손실')\n",
    "plt.title('학습 곡선(손실)')\n",
    "plt.show()"
   ]
  },
  {
   "cell_type": "code",
   "execution_count": 31,
   "metadata": {},
   "outputs": [
    {
     "name": "stdout",
     "output_type": "stream",
     "text": [
      "tensor([-5.,  5.])\n",
      "tensor([-8.7359,  9.4709])\n"
     ]
    }
   ],
   "source": [
    "# x의 범위를 구함(Xrange)\n",
    "X_max = X.max()\n",
    "X_min = X.min()\n",
    "X_range = np.array((X_min, X_max))\n",
    "X_range = torch.from_numpy(X_range).float()\n",
    "print(X_range)\n",
    "\n",
    "# 이와 대응하는 예측값 y를 구함\n",
    "Y_range = pred(X_range)\n",
    "print(Y_range.data)"
   ]
  },
  {
   "cell_type": "code",
   "execution_count": 32,
   "metadata": {},
   "outputs": [
    {
     "name": "stderr",
     "output_type": "stream",
     "text": [
      "C:\\Users\\white\\AppData\\Roaming\\Python\\Python37\\site-packages\\IPython\\core\\pylabtools.py:151: UserWarning: Glyph 49888 (\\N{HANGUL SYLLABLE SIN}) missing from current font.\n",
      "  fig.canvas.print_figure(bytes_io, **kw)\n",
      "C:\\Users\\white\\AppData\\Roaming\\Python\\Python37\\site-packages\\IPython\\core\\pylabtools.py:151: UserWarning: Glyph 51109 (\\N{HANGUL SYLLABLE JANG}) missing from current font.\n",
      "  fig.canvas.print_figure(bytes_io, **kw)\n",
      "C:\\Users\\white\\AppData\\Roaming\\Python\\Python37\\site-packages\\IPython\\core\\pylabtools.py:151: UserWarning: Glyph 44284 (\\N{HANGUL SYLLABLE GWA}) missing from current font.\n",
      "  fig.canvas.print_figure(bytes_io, **kw)\n",
      "C:\\Users\\white\\AppData\\Roaming\\Python\\Python37\\site-packages\\IPython\\core\\pylabtools.py:151: UserWarning: Glyph 52404 (\\N{HANGUL SYLLABLE CE}) missing from current font.\n",
      "  fig.canvas.print_figure(bytes_io, **kw)\n",
      "C:\\Users\\white\\AppData\\Roaming\\Python\\Python37\\site-packages\\IPython\\core\\pylabtools.py:151: UserWarning: Glyph 51473 (\\N{HANGUL SYLLABLE JUNG}) missing from current font.\n",
      "  fig.canvas.print_figure(bytes_io, **kw)\n",
      "C:\\Users\\white\\AppData\\Roaming\\Python\\Python37\\site-packages\\IPython\\core\\pylabtools.py:151: UserWarning: Glyph 51032 (\\N{HANGUL SYLLABLE YI}) missing from current font.\n",
      "  fig.canvas.print_figure(bytes_io, **kw)\n",
      "C:\\Users\\white\\AppData\\Roaming\\Python\\Python37\\site-packages\\IPython\\core\\pylabtools.py:151: UserWarning: Glyph 49345 (\\N{HANGUL SYLLABLE SANG}) missing from current font.\n",
      "  fig.canvas.print_figure(bytes_io, **kw)\n",
      "C:\\Users\\white\\AppData\\Roaming\\Python\\Python37\\site-packages\\IPython\\core\\pylabtools.py:151: UserWarning: Glyph 44288 (\\N{HANGUL SYLLABLE GWAN}) missing from current font.\n",
      "  fig.canvas.print_figure(bytes_io, **kw)\n",
      "C:\\Users\\white\\AppData\\Roaming\\Python\\Python37\\site-packages\\IPython\\core\\pylabtools.py:151: UserWarning: Glyph 51649 (\\N{HANGUL SYLLABLE JIG}) missing from current font.\n",
      "  fig.canvas.print_figure(bytes_io, **kw)\n",
      "C:\\Users\\white\\AppData\\Roaming\\Python\\Python37\\site-packages\\IPython\\core\\pylabtools.py:151: UserWarning: Glyph 44032 (\\N{HANGUL SYLLABLE GA}) missing from current font.\n",
      "  fig.canvas.print_figure(bytes_io, **kw)\n",
      "C:\\Users\\white\\AppData\\Roaming\\Python\\Python37\\site-packages\\IPython\\core\\pylabtools.py:151: UserWarning: Glyph 44277 (\\N{HANGUL SYLLABLE GONG}) missing from current font.\n",
      "  fig.canvas.print_figure(bytes_io, **kw)\n",
      "C:\\Users\\white\\AppData\\Roaming\\Python\\Python37\\site-packages\\IPython\\core\\pylabtools.py:151: UserWarning: Glyph 54980 (\\N{HANGUL SYLLABLE HU}) missing from current font.\n",
      "  fig.canvas.print_figure(bytes_io, **kw)\n"
     ]
    },
    {
     "data": {
      "image/png": "[encoded data removed]",
      "text/plain": [
       "<Figure size 640x480 with 1 Axes>"
      ]
     },
     "metadata": {},
     "output_type": "display_data"
    }
   ],
   "source": [
    "# 그래프 출력\n",
    "\n",
    "plt.scatter(X,  Y,  c='k',  s=50)\n",
    "plt.xlabel('$X$')\n",
    "plt.ylabel('$Y$')\n",
    "plt.plot(X_range.data, Y_range.data, lw=2, c='b')\n",
    "plt.title('신장과 체중의 상관 직선(가공 후)')\n",
    "plt.show()"
   ]
  },
  {
   "cell_type": "code",
   "execution_count": 33,
   "metadata": {},
   "outputs": [],
   "source": [
    "# y좌표와 x좌표 값 계산\n",
    "\n",
    "x_range = X_range + x.mean()\n",
    "yp_range = Y_range + y.mean()"
   ]
  },
  {
   "cell_type": "code",
   "execution_count": null,
   "metadata": {},
   "outputs": [],
   "source": []
  }
 ],
 "metadata": {
  "kernelspec": {
   "display_name": "Python 3",
   "language": "python",
   "name": "python3"
  },
  "language_info": {
   "codemirror_mode": {
    "name": "ipython",
    "version": 3
   },
   "file_extension": ".py",
   "mimetype": "text/x-python",
   "name": "python",
   "nbconvert_exporter": "python",
   "pygments_lexer": "ipython3",
   "version": "3.7.7"
  },
  "orig_nbformat": 4
 },
 "nbformat": 4,
 "nbformat_minor": 2
}
