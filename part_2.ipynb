{
 "cells": [
  {
   "attachments": {},
   "cell_type": "markdown",
   "metadata": {},
   "source": [
    "# 2장 파이토치의 기본 기능"
   ]
  },
  {
   "attachments": {},
   "cell_type": "markdown",
   "metadata": {},
   "source": [
    "## 2.0 초기 설정"
   ]
  },
  {
   "cell_type": "code",
   "execution_count": 1,
   "metadata": {},
   "outputs": [
    {
     "data": {
      "text/plain": [
       "'\\n!sudo apt-get install -y fonts-nanum* | tail -n 1\\n!sudo fc-cache -fv\\n!rm -rf ~/.cache/matplotlib\\n'"
      ]
     },
     "execution_count": 1,
     "metadata": {},
     "output_type": "execute_result"
    }
   ],
   "source": [
    "#처음할때만 실행해주고 다음부턴 안해줌\n",
    "\"\"\"\n",
    "!sudo apt-get install -y fonts-nanum* | tail -n 1\n",
    "!sudo fc-cache -fv\n",
    "!rm -rf ~/.cache/matplotlib\n",
    "\"\"\""
   ]
  },
  {
   "cell_type": "code",
   "execution_count": 2,
   "metadata": {},
   "outputs": [
    {
     "name": "stdout",
     "output_type": "stream",
     "text": [
      "Requirement already satisfied: graphviz in c:\\users\\white\\appdata\\local\\programs\\python\\python37\\lib\\site-packages (0.20.1)\n"
     ]
    }
   ],
   "source": [
    "!pip install graphviz"
   ]
  },
  {
   "cell_type": "code",
   "execution_count": 3,
   "metadata": {},
   "outputs": [
    {
     "name": "stderr",
     "output_type": "stream",
     "text": [
      "c:\\Users\\white\\AppData\\Local\\Programs\\Python\\Python37\\lib\\site-packages\\tqdm\\auto.py:22: TqdmWarning: IProgress not found. Please update jupyter and ipywidgets. See https://ipywidgets.readthedocs.io/en/stable/user_install.html\n",
      "  from .autonotebook import tqdm as notebook_tqdm\n"
     ]
    }
   ],
   "source": [
    "# 라이브러리 임포트,폰트 사용안함 문제없음\n",
    "\n",
    "%matplotlib inline\n",
    "\n",
    "\n",
    "import numpy as np\n",
    "import matplotlib.pyplot as plt\n",
    "from IPython.display import display\n",
    "import numpy as np\n",
    "\n",
    "# 파이토치 관련 라이브러리\n",
    "import torch"
   ]
  },
  {
   "attachments": {},
   "cell_type": "markdown",
   "metadata": {},
   "source": [
    "## 2.2 텐서"
   ]
  },
  {
   "cell_type": "code",
   "execution_count": 4,
   "metadata": {},
   "outputs": [
    {
     "name": "stdout",
     "output_type": "stream",
     "text": [
      "<class 'torch.Tensor'>\n",
      "torch.float32\n"
     ]
    }
   ],
   "source": [
    "#0계 텐서(스칼라)\n",
    "#float 처리 안하면 nn.Linear 사용할때 float64 로 적용되서 에러가 남\n",
    "r0 = torch.tensor(1.0).float()\n",
    "\n",
    "#tpye\n",
    "print(type(r0))\n",
    "\n",
    "#dtpye\n",
    "print(r0.dtype)"
   ]
  },
  {
   "cell_type": "code",
   "execution_count": 5,
   "metadata": {},
   "outputs": [
    {
     "name": "stdout",
     "output_type": "stream",
     "text": [
      "torch.Size([])\n",
      "tensor(1.)\n"
     ]
    }
   ],
   "source": [
    "#shape\n",
    "print(r0.shape)\n",
    "\n",
    "#데이터\n",
    "print(r0.data)"
   ]
  },
  {
   "cell_type": "code",
   "execution_count": 6,
   "metadata": {},
   "outputs": [
    {
     "name": "stdout",
     "output_type": "stream",
     "text": [
      "(5,)\n",
      "torch.float32\n",
      "torch.Size([5])\n",
      "tensor([1., 2., 3., 4., 5.])\n"
     ]
    }
   ],
   "source": [
    "#1계 텐서(벡터)\n",
    "\n",
    "#1계 넘파이 변수\n",
    "r1_np=np.array([1,2,3,4,5])\n",
    "print(r1_np.shape)\n",
    "\n",
    "#넘파이에서 텐서로 변환\n",
    "r1 = torch.tensor(r1_np).float()\n",
    "\n",
    "#dtype\n",
    "print(r1.dtype)\n",
    "\n",
    "#shape\n",
    "print(r1.shape)\n",
    "\n",
    "#데이터 확인\n",
    "print(r1.data)"
   ]
  },
  {
   "attachments": {},
   "cell_type": "markdown",
   "metadata": {},
   "source": [
    "* numpy 크기 : (w,h,..)\n",
    "* tensor 크기 : troch.Size([w,h,..])\n"
   ]
  },
  {
   "cell_type": "code",
   "execution_count": 7,
   "metadata": {},
   "outputs": [
    {
     "name": "stdout",
     "output_type": "stream",
     "text": [
      "(2, 3)\n",
      "torch.Size([2, 3])\n",
      "tensor([[1., 5., 6.],\n",
      "        [4., 3., 2.]])\n"
     ]
    }
   ],
   "source": [
    "#2계 텐서(행렬)\n",
    "\n",
    "#2계 넘파이 변수 작성\n",
    "r2_np = np.array([[1,5,6],[4,3,2]])\n",
    "print(r2_np.shape)\n",
    "\n",
    "#넘파이에서 텐서로 변환\n",
    "r2 = torch.tensor(r2_np).float()\n",
    "\n",
    "#shape 확인\n",
    "print(r2.shape)\n",
    "\n",
    "#데이터 확인\n",
    "print(r2.data)"
   ]
  },
  {
   "cell_type": "code",
   "execution_count": 8,
   "metadata": {},
   "outputs": [
    {
     "name": "stdout",
     "output_type": "stream",
     "text": [
      "torch.Size([3, 2, 2])\n",
      "tensor([[[-0.1115,  0.1204],\n",
      "         [-0.3696, -0.2404]],\n",
      "\n",
      "        [[-1.1969,  0.2093],\n",
      "         [-0.9724, -0.7550]],\n",
      "\n",
      "        [[ 0.3239, -0.1085],\n",
      "         [ 0.2103, -0.3908]]])\n"
     ]
    }
   ],
   "source": [
    "# 3계 텐서\n",
    "\n",
    "# 난수 seed 초기화 -1~1 사이 랜덤한 값\n",
    "torch.manual_seed(123)\n",
    "\n",
    "# shape=[3,2,2]의 중규분포 텐서 작성\n",
    "r3 = torch.randn((3,2,2))\n",
    "\n",
    "#shape \n",
    "print(r3.shape)\n",
    "\n",
    "#data\n",
    "print(r3.data)"
   ]
  },
  {
   "cell_type": "code",
   "execution_count": 9,
   "metadata": {},
   "outputs": [
    {
     "name": "stdout",
     "output_type": "stream",
     "text": [
      "torch.Size([2, 3, 2, 2])\n",
      "tensor([[[[1., 1.],\n",
      "          [1., 1.]],\n",
      "\n",
      "         [[1., 1.],\n",
      "          [1., 1.]],\n",
      "\n",
      "         [[1., 1.],\n",
      "          [1., 1.]]],\n",
      "\n",
      "\n",
      "        [[[1., 1.],\n",
      "          [1., 1.]],\n",
      "\n",
      "         [[1., 1.],\n",
      "          [1., 1.]],\n",
      "\n",
      "         [[1., 1.],\n",
      "          [1., 1.]]]])\n"
     ]
    }
   ],
   "source": [
    "# 4계 텐서\n",
    "\n",
    "# 요소가 모두 1인 shape=[2,3,2,2] 텐서 작성\n",
    "r4 = torch.ones((2, 3, 2, 2))\n",
    "\n",
    "# shape 확인\n",
    "print(r4.shape)\n",
    "\n",
    "# 데이터 확인\n",
    "print(r4.data)"
   ]
  },
  {
   "attachments": {},
   "cell_type": "markdown",
   "metadata": {},
   "source": [
    "tensor의 정숫값 변환"
   ]
  },
  {
   "cell_type": "code",
   "execution_count": 10,
   "metadata": {},
   "outputs": [
    {
     "name": "stdout",
     "output_type": "stream",
     "text": [
      "torch.int64\n",
      "tensor([1, 2, 3, 4, 5])\n"
     ]
    }
   ],
   "source": [
    "r5 = r1.long()\n",
    "\n",
    "# dtype 확인\n",
    "print(r5.dtype)\n",
    "\n",
    "# 값 확인\n",
    "print(r5)\n",
    "\n",
    "# tensor([1., 2., 3., 4., 5.]) -> tensor([1, 2, 3, 4, 5])"
   ]
  },
  {
   "cell_type": "code",
   "execution_count": 11,
   "metadata": {},
   "outputs": [
    {
     "name": "stdout",
     "output_type": "stream",
     "text": [
      "torch.Size([3, 4])\n",
      "tensor([[-0.1115,  0.1204, -0.3696, -0.2404],\n",
      "        [-1.1969,  0.2093, -0.9724, -0.7550],\n",
      "        [ 0.3239, -0.1085,  0.2103, -0.3908]])\n"
     ]
    },
    {
     "data": {
      "text/plain": [
       "'\\nr3\\ntorch.Size([3, 2, 2])\\ntensor([[[-0.1115,  0.1204],\\n         [-0.3696, -0.2404]],\\n\\n        [[-1.1969,  0.2093],\\n         [-0.9724, -0.7550]],\\n\\n        [[ 0.3239, -0.1085],\\n         [ 0.2103, -0.3908]]])\\n\\n->\\n\\nr6\\ntorch.Size([3, 4])\\ntensor([[-0.1115,  0.1204, -0.3696, -0.2404],\\n        [-1.1969,  0.2093, -0.9724, -0.7550],\\n        [ 0.3239, -0.1085,  0.2103, -0.3908]])\\n         \\n'"
      ]
     },
     "execution_count": 11,
     "metadata": {},
     "output_type": "execute_result"
    }
   ],
   "source": [
    "#2계화\n",
    "#numpy 의 reshape 가 tensor에서 view 로 사용됨\n",
    "# -1 은 자동 조정, 남은거를 채움\n",
    "#3,-1은 12개의 데이터를 3줄로 나타내야되니 -1을 넣었을 때 4개로 나누어짐\n",
    "\n",
    "r6 = r3.view(3,-1)\n",
    "print(r6.shape)\n",
    "print(r6.data)\n",
    "\n",
    "\"\"\"\n",
    "r3\n",
    "torch.Size([3, 2, 2])\n",
    "tensor([[[-0.1115,  0.1204],\n",
    "         [-0.3696, -0.2404]],\n",
    "\n",
    "        [[-1.1969,  0.2093],\n",
    "         [-0.9724, -0.7550]],\n",
    "\n",
    "        [[ 0.3239, -0.1085],\n",
    "         [ 0.2103, -0.3908]]])\n",
    "\n",
    "->\n",
    "\n",
    "r6\n",
    "torch.Size([3, 4])\n",
    "tensor([[-0.1115,  0.1204, -0.3696, -0.2404],\n",
    "        [-1.1969,  0.2093, -0.9724, -0.7550],\n",
    "        [ 0.3239, -0.1085,  0.2103, -0.3908]])\n",
    "         \n",
    "\"\"\""
   ]
  },
  {
   "cell_type": "code",
   "execution_count": 12,
   "metadata": {},
   "outputs": [
    {
     "data": {
      "text/plain": [
       "tensor([[[-0.1606, -0.4015],\n",
       "         [-0.4845, -2.0929],\n",
       "         [-0.8199, -0.4210]],\n",
       "\n",
       "        [[-0.9620,  1.2825],\n",
       "         [ 0.8768,  1.6221],\n",
       "         [-0.9887, -1.7018]],\n",
       "\n",
       "        [[-0.7498, -1.1285],\n",
       "         [ 0.4135,  0.2892],\n",
       "         [ 2.2473, -0.8036]]])"
      ]
     },
     "execution_count": 12,
     "metadata": {},
     "output_type": "execute_result"
    }
   ],
   "source": [
    "#test\n",
    "r_3 = torch.randn((3,3,2))\n",
    "\n",
    "r_3.data"
   ]
  },
  {
   "cell_type": "code",
   "execution_count": 13,
   "metadata": {},
   "outputs": [
    {
     "name": "stdout",
     "output_type": "stream",
     "text": [
      "tensor([[-0.1606, -0.4015, -0.4845, -2.0929, -0.8199, -0.4210],\n",
      "        [-0.9620,  1.2825,  0.8768,  1.6221, -0.9887, -1.7018],\n",
      "        [-0.7498, -1.1285,  0.4135,  0.2892,  2.2473, -0.8036]])\n"
     ]
    }
   ],
   "source": [
    "# 데이터의 사이즈에 맞게 view 값에 들어가야함 예 : 데이터 개수가 n개 일때 view 에 들어가는 값이 n의 약수여야됨\n",
    "r_0 = r_3.view(3,-1)\n",
    "\n",
    "print(r_0)"
   ]
  },
  {
   "cell_type": "code",
   "execution_count": 14,
   "metadata": {},
   "outputs": [
    {
     "name": "stdout",
     "output_type": "stream",
     "text": [
      "torch.Size([12])\n",
      "tensor([-0.1115,  0.1204, -0.3696, -0.2404, -1.1969,  0.2093, -0.9724, -0.7550,\n",
      "         0.3239, -0.1085,  0.2103, -0.3908])\n"
     ]
    }
   ],
   "source": [
    "#1계화\n",
    "# 남은 자리에 -1을 지정하면 이 수를 자동으로 조정함\n",
    "\n",
    "r7 = r3.view(-1)\n",
    "\n",
    "#shape\n",
    "print(r7.shape)\n",
    "\n",
    "#값 확인\n",
    "print(r7.data)"
   ]
  },
  {
   "cell_type": "code",
   "execution_count": 15,
   "metadata": {},
   "outputs": [
    {
     "name": "stdout",
     "output_type": "stream",
     "text": [
      "requires_grad:  False\n",
      "device:  cpu\n"
     ]
    }
   ],
   "source": [
    "# requires_grad 속성,미분 가능 여부\n",
    "print('requires_grad: ', r1.requires_grad)\n",
    "\n",
    "# device 속성,gpu\n",
    "print('device: ', r1.device)"
   ]
  },
  {
   "cell_type": "code",
   "execution_count": 16,
   "metadata": {},
   "outputs": [
    {
     "name": "stdout",
     "output_type": "stream",
     "text": [
      "<class 'float'>\n",
      "1.0\n"
     ]
    }
   ],
   "source": [
    "# 스칼라 텐서(0계 텐서)는 item 함수로 값을 꺼낼 수 있음\n",
    "# 스칼라 이외에는 작동하지 않는다.\n",
    "# 그러나 1계이상의 텐서여도 값이 1개면 불러올수있다\n",
    "\n",
    "item = r0.item()\n",
    "\n",
    "print(type(item))\n",
    "print(item)"
   ]
  },
  {
   "cell_type": "code",
   "execution_count": 17,
   "metadata": {},
   "outputs": [
    {
     "name": "stdout",
     "output_type": "stream",
     "text": [
      "torch.Size([1])\n",
      "1.0\n"
     ]
    }
   ],
   "source": [
    "# 요소 수가 하나뿐인 1계 텐서는 OK\n",
    "# (2계 이상에서도 마찬가지)\n",
    "t1 = torch.ones(1)\n",
    "\n",
    "# shape 확인\n",
    "print(t1.shape)\n",
    "\n",
    "# item 함수 호출\n",
    "print(t1.item())"
   ]
  },
  {
   "cell_type": "code",
   "execution_count": 18,
   "metadata": {},
   "outputs": [
    {
     "name": "stdout",
     "output_type": "stream",
     "text": [
      "tensor([[1., 5., 6.],\n",
      "        [4., 3., 2.]])\n",
      "tensor(6.)\n"
     ]
    }
   ],
   "source": [
    "#텐서 r2 확인\n",
    "print(r2)\n",
    "\n",
    "#max 함수를 인수 없이 호출하면, 최댓값을 얻음\n",
    "print(r2.max())"
   ]
  },
  {
   "cell_type": "code",
   "execution_count": 19,
   "metadata": {},
   "outputs": [
    {
     "name": "stdout",
     "output_type": "stream",
     "text": [
      "torch.return_types.max(\n",
      "values=tensor([6., 4.]),\n",
      "indices=tensor([2, 0]))\n"
     ]
    }
   ],
   "source": [
    "#torch.max 함수\n",
    "# 두번째 인수는 기준이 되는 축을 의미함\n",
    "print(torch.max(r2,1))"
   ]
  },
  {
   "cell_type": "code",
   "execution_count": 20,
   "metadata": {},
   "outputs": [],
   "source": [
    "_,preds=torch.max(r2,1)"
   ]
  },
  {
   "cell_type": "code",
   "execution_count": 21,
   "metadata": {},
   "outputs": [
    {
     "data": {
      "text/plain": [
       "tensor([2, 0])"
      ]
     },
     "execution_count": 21,
     "metadata": {},
     "output_type": "execute_result"
    }
   ],
   "source": [
    "preds"
   ]
  },
  {
   "cell_type": "code",
   "execution_count": 22,
   "metadata": {},
   "outputs": [
    {
     "name": "stdout",
     "output_type": "stream",
     "text": [
      "tensor([2, 0])\n"
     ]
    }
   ],
   "source": [
    "# 몇 번째 요소가 최댓값인지 indices 확인을 통해 알 수 있음\n",
    "# 아래 계산은 다중 분류에서 예측 라벨을 구할 때 자주 사용되는 패턴임\n",
    "print(torch.max(r2, 1)[1]) # = indices"
   ]
  },
  {
   "cell_type": "code",
   "execution_count": 23,
   "metadata": {},
   "outputs": [
    {
     "name": "stdout",
     "output_type": "stream",
     "text": [
      "<class 'numpy.ndarray'>\n",
      "[[1. 5. 6.]\n",
      " [4. 3. 2.]]\n"
     ]
    }
   ],
   "source": [
    "# 넘파이로 변환\n",
    "r2_np = r2.data.numpy()\n",
    "\n",
    "# type 확인\n",
    "print(type(r2_np))\n",
    "\n",
    "# 값 확인\n",
    "print(r2_np)"
   ]
  },
  {
   "attachments": {},
   "cell_type": "markdown",
   "metadata": {},
   "source": [
    "## 2.3 자동 미분 기능"
   ]
  },
  {
   "attachments": {},
   "cell_type": "markdown",
   "metadata": {},
   "source": [
    "## 2.4 2차 함수의 경사 계산"
   ]
  },
  {
   "cell_type": "code",
   "execution_count": 24,
   "metadata": {},
   "outputs": [
    {
     "name": "stdout",
     "output_type": "stream",
     "text": [
      "[-2.   -1.75 -1.5  -1.25 -1.   -0.75 -0.5  -0.25  0.    0.25  0.5   0.75\n",
      "  1.    1.25  1.5   1.75  2.  ]\n"
     ]
    }
   ],
   "source": [
    "x_np = np.arange(-2,2.1,0.25)\n",
    "\n",
    "print(x_np)"
   ]
  },
  {
   "cell_type": "code",
   "execution_count": 25,
   "metadata": {},
   "outputs": [
    {
     "name": "stdout",
     "output_type": "stream",
     "text": [
      "tensor([-2.0000, -1.7500, -1.5000, -1.2500, -1.0000, -0.7500, -0.5000, -0.2500,\n",
      "         0.0000,  0.2500,  0.5000,  0.7500,  1.0000,  1.2500,  1.5000,  1.7500,\n",
      "         2.0000], requires_grad=True)\n"
     ]
    }
   ],
   "source": [
    "# 경사 계산용 변수 정의\n",
    "\n",
    "#requires_grad = True로 설정\n",
    "\n",
    "x = torch.tensor(x_np,requires_grad=True,dtype=torch.float32)\n",
    "\n",
    "print(x)"
   ]
  },
  {
   "cell_type": "code",
   "execution_count": 26,
   "metadata": {},
   "outputs": [],
   "source": [
    "#2차 함수의 계산\n",
    "# 계산 그래프는 내부에서 자동 생성됨\n",
    "\n",
    "y = 2* x**2 + 2"
   ]
  },
  {
   "cell_type": "code",
   "execution_count": 27,
   "metadata": {},
   "outputs": [
    {
     "name": "stdout",
     "output_type": "stream",
     "text": [
      "tensor([10.0000,  8.1250,  6.5000,  5.1250,  4.0000,  3.1250,  2.5000,  2.1250,\n",
      "         2.0000,  2.1250,  2.5000,  3.1250,  4.0000,  5.1250,  6.5000,  8.1250,\n",
      "        10.0000], grad_fn=<AddBackward0>)\n"
     ]
    }
   ],
   "source": [
    "print(y)"
   ]
  },
  {
   "cell_type": "code",
   "execution_count": 28,
   "metadata": {},
   "outputs": [
    {
     "data": {
      "image/png": "[encoded data removed]",
      "text/plain": [
       "<Figure size 640x480 with 1 Axes>"
      ]
     },
     "metadata": {},
     "output_type": "display_data"
    }
   ],
   "source": [
    "plt.plot(x.data,y.data)\n",
    "plt.show()"
   ]
  },
  {
   "cell_type": "code",
   "execution_count": 29,
   "metadata": {},
   "outputs": [],
   "source": [
    "# 경사 계싼을 위해 최종 값은 스칼라일 필요가 있으므로, 더미로 sum 함수로 붙임\n",
    "\n",
    "z=y.sum()\n"
   ]
  },
  {
   "cell_type": "code",
   "execution_count": 31,
   "metadata": {},
   "outputs": [],
   "source": [
    "# 계산 그래프 시각화\n",
    "# 필요한 라이브러리 임포트\n",
    "# 라이브러리를 따로 설정 해야됨\n",
    "#https://blog.naver.com/ssdyka/221242275911\n",
    "#from torchviz import make_dot\n",
    "\n",
    "# 시각화 함수 호출\n",
    "#g = make_dot(z, params={'x':x})\n",
    "#display(g)"
   ]
  },
  {
   "cell_type": "code",
   "execution_count": 32,
   "metadata": {},
   "outputs": [],
   "source": [
    "# 경사 계산\n",
    "\n",
    "z.backward()"
   ]
  },
  {
   "cell_type": "code",
   "execution_count": 33,
   "metadata": {},
   "outputs": [
    {
     "name": "stdout",
     "output_type": "stream",
     "text": [
      "tensor([-8., -7., -6., -5., -4., -3., -2., -1.,  0.,  1.,  2.,  3.,  4.,  5.,\n",
      "         6.,  7.,  8.])\n"
     ]
    }
   ],
   "source": [
    "print(x.grad)"
   ]
  },
  {
   "cell_type": "code",
   "execution_count": null,
   "metadata": {},
   "outputs": [],
   "source": []
  }
 ],
 "metadata": {
  "kernelspec": {
   "display_name": "Python 3",
   "language": "python",
   "name": "python3"
  },
  "language_info": {
   "codemirror_mode": {
    "name": "ipython",
    "version": 3
   },
   "file_extension": ".py",
   "mimetype": "text/x-python",
   "name": "python",
   "nbconvert_exporter": "python",
   "pygments_lexer": "ipython3",
   "version": "3.7.7"
  },
  "orig_nbformat": 4
 },
 "nbformat": 4,
 "nbformat_minor": 2
}
